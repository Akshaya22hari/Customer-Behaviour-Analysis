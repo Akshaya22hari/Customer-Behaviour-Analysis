{
 "cells": [
  {
   "cell_type": "markdown",
   "id": "de2fbf5a-ce7b-44e0-ae9c-613d6a5f5a62",
   "metadata": {},
   "source": [
    "# Customer Behavior Analysis"
   ]
  },
  {
   "cell_type": "code",
   "execution_count": 3,
   "id": "3f527d9a-da19-43df-9fb7-4d8b8c1037cd",
   "metadata": {
    "scrolled": true
   },
   "outputs": [
    {
     "name": "stdout",
     "output_type": "stream",
     "text": [
      "Requirement already satisfied: pandas in c:\\users\\aksha\\anaconda3\\lib\\site-packages (2.2.2)\n",
      "Requirement already satisfied: sqlalchemy in c:\\users\\aksha\\anaconda3\\lib\\site-packages (2.0.34)\n",
      "Requirement already satisfied: mysql-connector-python in c:\\users\\aksha\\anaconda3\\lib\\site-packages (9.2.0)\n",
      "Requirement already satisfied: numpy>=1.26.0 in c:\\users\\aksha\\anaconda3\\lib\\site-packages (from pandas) (1.26.4)\n",
      "Requirement already satisfied: python-dateutil>=2.8.2 in c:\\users\\aksha\\anaconda3\\lib\\site-packages (from pandas) (2.9.0.post0)\n",
      "Requirement already satisfied: pytz>=2020.1 in c:\\users\\aksha\\anaconda3\\lib\\site-packages (from pandas) (2024.1)\n",
      "Requirement already satisfied: tzdata>=2022.7 in c:\\users\\aksha\\anaconda3\\lib\\site-packages (from pandas) (2023.3)\n",
      "Requirement already satisfied: typing-extensions>=4.6.0 in c:\\users\\aksha\\anaconda3\\lib\\site-packages (from sqlalchemy) (4.11.0)\n",
      "Requirement already satisfied: greenlet!=0.4.17 in c:\\users\\aksha\\anaconda3\\lib\\site-packages (from sqlalchemy) (3.0.1)\n",
      "Requirement already satisfied: six>=1.5 in c:\\users\\aksha\\anaconda3\\lib\\site-packages (from python-dateutil>=2.8.2->pandas) (1.16.0)\n"
     ]
    }
   ],
   "source": [
    "!pip install pandas sqlalchemy mysql-connector-python"
   ]
  },
  {
   "cell_type": "code",
   "execution_count": 4,
   "id": "0345e5e4-248b-4c89-917e-c32c9b3fb11e",
   "metadata": {
    "scrolled": true
   },
   "outputs": [
    {
     "name": "stdout",
     "output_type": "stream",
     "text": [
      "Libraries installed successfully!\n"
     ]
    }
   ],
   "source": [
    "import pandas as pd\n",
    "import sqlalchemy\n",
    "import mysql.connector\n",
    "\n",
    "print(\"Libraries installed successfully!\")"
   ]
  },
  {
   "cell_type": "code",
   "execution_count": 7,
   "id": "d46d97cb-b4be-478e-a180-2e366f95c0dd",
   "metadata": {
    "scrolled": true
   },
   "outputs": [
    {
     "name": "stdout",
     "output_type": "stream",
     "text": [
      "Database 'customer_db' created successfully!\n"
     ]
    }
   ],
   "source": [
    "# Connect to MySQL Server (without specifying a database)\n",
    "conn = mysql.connector.connect(\n",
    "    host=\"localhost\",\n",
    "    user=\"root\",\n",
    "    password=\"Akshaya@22\"  \n",
    ")\n",
    "\n",
    "cursor = conn.cursor()\n",
    "\n",
    "# Create Database\n",
    "cursor.execute(\"CREATE DATABASE IF NOT EXISTS customer_db;\")\n",
    "print(\"Database 'customer_db' created successfully!\")"
   ]
  },
  {
   "cell_type": "code",
   "execution_count": 9,
   "id": "8fb8bd52-e31e-489c-ba31-f84cc072eaff",
   "metadata": {
    "scrolled": true
   },
   "outputs": [
    {
     "name": "stdout",
     "output_type": "stream",
     "text": [
      "Data inserted successfully into customer_journey\n",
      "Data inserted successfully into customer_reviews\n",
      "Data inserted successfully into customers\n",
      "Data inserted successfully into engagement_data\n",
      "Data inserted successfully into geography\n",
      "Data inserted successfully into products\n"
     ]
    }
   ],
   "source": [
    "import pandas as pd\n",
    "from sqlalchemy import create_engine\n",
    "import urllib.parse\n",
    "\n",
    "# Database connection details\n",
    "db_user = \"root\"  \n",
    "db_password = urllib.parse.quote_plus(\"Akshaya@22\")  \n",
    "db_host = \"localhost\"\n",
    "db_name = \"customer_db\"\n",
    "\n",
    "# Create SQLAlchemy engine\n",
    "engine = create_engine(f\"mysql+mysqlconnector://{db_user}:{db_password}@{db_host}/{db_name}\")\n",
    "\n",
    "# Define CSV file paths\n",
    "file_paths = {\n",
    "    \"customer_journey\": r\"C:\\Users\\Aksha\\OneDrive\\Documents\\Akshaya\\GUVI\\customer_journey.csv\",\n",
    "    \"customer_reviews\": r\"C:\\Users\\Aksha\\OneDrive\\Documents\\Akshaya\\GUVI\\customer_reviews.csv\",\n",
    "    \"customers\": r\"C:\\Users\\Aksha\\OneDrive\\Documents\\Akshaya\\GUVI\\customers.csv\",\n",
    "    \"engagement_data\": r\"C:\\Users\\Aksha\\OneDrive\\Documents\\Akshaya\\GUVI\\engagement_data.csv\",\n",
    "    \"geography\": r\"C:\\Users\\Aksha\\OneDrive\\Documents\\Akshaya\\GUVI\\geography.csv\",\n",
    "    \"products\": r\"C:\\Users\\Aksha\\OneDrive\\Documents\\Akshaya\\GUVI\\products.csv\",\n",
    "}\n",
    "\n",
    "# Load and insert each file\n",
    "for table_name, file_path in file_paths.items():\n",
    "    try:\n",
    "        df = pd.read_csv(file_path)\n",
    "        df.to_sql(table_name, con=engine, if_exists=\"replace\", index=False)\n",
    "        print(f\"Data inserted successfully into {table_name}\")\n",
    "    except Exception as e:\n",
    "        print(f\"Error loading {table_name}: {e}\")\n"
   ]
  },
  {
   "cell_type": "markdown",
   "id": "70c1c7c5-6a2f-4645-91fd-d95fc1276702",
   "metadata": {},
   "source": [
    "# Marketing Manager"
   ]
  },
  {
   "cell_type": "raw",
   "id": "75b14f23-f7e4-49f5-a44e-b4c27e48f5e1",
   "metadata": {},
   "source": [
    "1. Query to analyze customer engagement factors"
   ]
  },
  {
   "cell_type": "code",
   "execution_count": 9,
   "id": "a30e2442-7d3d-46c5-a97f-f6c820eaefcd",
   "metadata": {
    "scrolled": true
   },
   "outputs": [
    {
     "name": "stdout",
     "output_type": "stream",
     "text": [
      "   CustomerID  Age  Country    City ViewsClicksCombined  Likes  Rating  \\\n",
      "0          93   41    Spain  Madrid           9759-3095    400       5   \n",
      "1          93   41    Spain  Madrid           9759-3095    400       3   \n",
      "2           9   29  Austria  Vienna           9759-3095    400       3   \n",
      "3           9   29  Austria  Vienna           9759-3095    400       3   \n",
      "4          93   41    Spain  Madrid           9759-3095    400       4   \n",
      "\n",
      "   ReviewLength        Stage  Duration  \n",
      "0            34  ProductPage     279.0  \n",
      "1            42  ProductPage     279.0  \n",
      "2            23  ProductPage     292.0  \n",
      "3            23     Homepage     187.0  \n",
      "4            27  ProductPage     279.0  \n"
     ]
    }
   ],
   "source": [
    "# Query to analyze customer engagement factors\n",
    "query = \"\"\"\n",
    "SELECT \n",
    "    c.CustomerID, \n",
    "    c.Age, \n",
    "    g.Country, \n",
    "    g.City, \n",
    "    e.ViewsClicksCombined, \n",
    "    e.Likes, \n",
    "    r.Rating, \n",
    "    LENGTH(r.ReviewText) AS ReviewLength, \n",
    "    j.Stage, \n",
    "    j.Duration \n",
    "FROM customers c\n",
    "JOIN customer_journey j ON c.CustomerID = j.CustomerID\n",
    "JOIN customer_reviews r ON c.CustomerID = r.CustomerID\n",
    "JOIN geography g ON c.GeographyID = g.GeographyID\n",
    "JOIN engagement_data e ON j.ProductID = e.ProductID\n",
    "ORDER BY e.ViewsClicksCombined DESC, e.Likes DESC;\n",
    "\"\"\"\n",
    "\n",
    "# Execute query\n",
    "df = pd.read_sql(query, con=engine)\n",
    "\n",
    "# Show top results\n",
    "print(df.head())"
   ]
  },
  {
   "cell_type": "raw",
   "id": "e002808a-8435-44c2-a3ba-b09da715a4bc",
   "metadata": {},
   "source": [
    "2. SQL query to identify drop-off stages"
   ]
  },
  {
   "cell_type": "code",
   "execution_count": 11,
   "id": "cfd2f022-dc67-4321-8b68-88beac6d5909",
   "metadata": {
    "scrolled": true
   },
   "outputs": [
    {
     "name": "stdout",
     "output_type": "stream",
     "text": [
      "  DropoffStage  DropoffCount\n",
      "0     HOMEPAGE            32\n",
      "1  PRODUCTPAGE            20\n",
      "2     CHECKOUT            13\n"
     ]
    }
   ],
   "source": [
    "# SQL query to identify drop-off stages\n",
    "query = \"\"\"\n",
    "SELECT \n",
    "    UPPER (Stage) AS DropoffStage, \n",
    "    COUNT(DISTINCT CustomerID) AS DropoffCount\n",
    "FROM customer_journey\n",
    "WHERE VisitDate = (\n",
    "    SELECT MAX(VisitDate) FROM customer_journey AS sub \n",
    "    WHERE sub.CustomerID = customer_journey.CustomerID\n",
    ")\n",
    "GROUP BY DropoffStage\n",
    "ORDER BY DropoffCount DESC;\n",
    "\"\"\"\n",
    "dropoff_data = pd.read_sql(query, con=engine)\n",
    "\n",
    "# Display results\n",
    "print(dropoff_data)"
   ]
  },
  {
   "cell_type": "raw",
   "id": "0dba85bc-c048-40f5-bf40-805e944694bb",
   "metadata": {},
   "source": [
    "3. Top Performing Products ,Top Performing Locations,Top Performing Customer Segments (by Age Group)"
   ]
  },
  {
   "cell_type": "code",
   "execution_count": 13,
   "id": "464621b8-86a9-4ed8-80ac-7ea357260d06",
   "metadata": {
    "scrolled": true
   },
   "outputs": [
    {
     "name": "stdout",
     "output_type": "stream",
     "text": [
      " Top Performing Products:\n",
      "        ProductName  PurchaseCount\n",
      "0    Climbing Rope              2\n",
      "1        Surfboard              2\n",
      "2  Fitness Tracker              1\n",
      "3            Kayak              1\n",
      "\n",
      " Top Performing Locations:\n",
      "        Country       City  CustomerCount\n",
      "0        Spain     Madrid             18\n",
      "1        Italy       Rome             12\n",
      "2      Germany     Berlin             11\n",
      "3      Austria     Vienna             10\n",
      "4           UK     London             10\n",
      "5  Netherlands  Amsterdam              9\n",
      "6      Belgium   Brussels              9\n",
      "7       Sweden  Stockholm              8\n",
      "8  Switzerland     Zurich              8\n",
      "9       France      Paris              5\n",
      "\n",
      " Top Performing Customer Segments:\n",
      "   AgeGroup  CustomerCount\n",
      "0    36-45             25\n",
      "1    46-60             24\n",
      "2    26-35             22\n",
      "3    18-25             15\n",
      "4      60+             14\n"
     ]
    }
   ],
   "source": [
    "# Query: Top Performing Products\n",
    "query_products = \"\"\"\n",
    "SELECT \n",
    "    p.ProductName, \n",
    "    COUNT(cj.CustomerID) AS PurchaseCount\n",
    "FROM customer_journey cj\n",
    "JOIN products p ON cj.ProductID = p.ProductID\n",
    "WHERE cj.Action = 'Purchase'  -- Customers who completed a purchase\n",
    "GROUP BY p.ProductName\n",
    "ORDER BY PurchaseCount DESC\n",
    "LIMIT 10;\n",
    "\"\"\"\n",
    "\n",
    "# Query: Top Performing Locations\n",
    "query_locations = \"\"\"\n",
    "SELECT \n",
    "    g.Country, g.City, \n",
    "    COUNT(c.CustomerID) AS CustomerCount\n",
    "FROM customers c\n",
    "JOIN geography g ON c.GeographyID = g.GeographyID\n",
    "GROUP BY g.Country, g.City\n",
    "ORDER BY CustomerCount DESC\n",
    "LIMIT 10;\n",
    "\"\"\"\n",
    "\n",
    "# Query: Top Performing Customer Segments (by Age Group)\n",
    "query_segments = \"\"\"\n",
    "SELECT \n",
    "    CASE \n",
    "        WHEN Age BETWEEN 18 AND 25 THEN '18-25'\n",
    "        WHEN Age BETWEEN 26 AND 35 THEN '26-35'\n",
    "        WHEN Age BETWEEN 36 AND 45 THEN '36-45'\n",
    "        WHEN Age BETWEEN 46 AND 60 THEN '46-60'\n",
    "        ELSE '60+' \n",
    "    END AS AgeGroup,\n",
    "    COUNT(CustomerID) AS CustomerCount\n",
    "FROM customers\n",
    "GROUP BY AgeGroup\n",
    "ORDER BY CustomerCount DESC;\n",
    "\"\"\"\n",
    "\n",
    "# Execute Queries\n",
    "top_products = pd.read_sql(query_products, con=engine)\n",
    "top_locations = pd.read_sql(query_locations, con=engine)\n",
    "top_segments = pd.read_sql(query_segments, con=engine)\n",
    "\n",
    "# Display Results\n",
    "print(\" Top Performing Products:\\n\", top_products)\n",
    "print(\"\\n Top Performing Locations:\\n\", top_locations)\n",
    "print(\"\\n Top Performing Customer Segments:\\n\", top_segments)\n"
   ]
  },
  {
   "cell_type": "raw",
   "id": "72eff61a-4505-4b9c-9473-7739d8e358a9",
   "metadata": {},
   "source": [
    "4. Analyze impact of customer reviews on purchases"
   ]
  },
  {
   "cell_type": "code",
   "execution_count": 15,
   "id": "cbeeef1b-4518-40cd-8951-7c5f8863b5c6",
   "metadata": {
    "scrolled": true
   },
   "outputs": [
    {
     "name": "stdout",
     "output_type": "stream",
     "text": [
      " Impact of Reviews on Purchasing Behavior:\n",
      "         ProductName  Rating  AvgReviewLength  PurchaseCount\n",
      "0     Boxing Gloves       4          48.0000              3\n",
      "1         Ski Boots       3          40.0000              3\n",
      "2         Ski Boots       4          37.2500              3\n",
      "3         Ski Boots       5          34.0000              3\n",
      "4         Surfboard       2          39.0000              3\n",
      "5         Surfboard       3          32.0000              3\n",
      "6         Surfboard       4          45.3333              3\n",
      "7         Surfboard       5          38.0000              3\n",
      "8     Climbing Rope       2          30.0000              2\n",
      "9     Climbing Rope       3          40.0000              2\n",
      "10    Climbing Rope       4          29.0000              2\n",
      "11    Climbing Rope       5          36.6667              2\n",
      "12       Volleyball       3          39.0000              2\n",
      "13       Volleyball       4          41.0000              2\n",
      "14       Volleyball       5          39.0000              2\n",
      "15   Baseball Glove       3          47.6667              1\n",
      "16   Baseball Glove       4          35.0000              1\n",
      "17       Basketball       2          65.0000              1\n",
      "18       Basketball       3          52.5000              1\n",
      "19  Fitness Tracker       2          44.0000              1\n",
      "20  Fitness Tracker       3          31.0000              1\n",
      "21  Fitness Tracker       4          45.0000              1\n",
      "22  Fitness Tracker       5          41.0000              1\n",
      "23  Football Helmet       5          36.0000              1\n",
      "24       Ice Skates       3          39.0000              1\n",
      "25            Kayak       2          39.0000              1\n",
      "26            Kayak       3          25.7500              1\n",
      "27            Kayak       4          43.6000              1\n",
      "28    Tennis Racket       1          48.0000              1\n",
      "29    Tennis Racket       3          63.0000              1\n",
      "30    Tennis Racket       4          33.5000              1\n",
      "31    Tennis Racket       5          37.3333              1\n"
     ]
    }
   ],
   "source": [
    "# Analyze impact of customer reviews on purchases\n",
    "query = \"\"\"\n",
    "SELECT \n",
    "    p.ProductName, \n",
    "    r.Rating, \n",
    "    AVG(LENGTH(r.ReviewText)) AS AvgReviewLength, \n",
    "    COUNT(DISTINCT cj.CustomerID) AS PurchaseCount\n",
    "FROM customer_reviews r\n",
    "LEFT JOIN customer_journey cj ON r.ProductID = cj.ProductID  -- Removed CustomerID match\n",
    "LEFT JOIN products p ON r.ProductID = p.ProductID\n",
    "WHERE  cj.Stage = 'Checkout' \n",
    "GROUP BY p.ProductName, r.Rating\n",
    "ORDER BY PurchaseCount DESC;\n",
    "\"\"\"\n",
    "\n",
    "# Execute SQL query\n",
    "review_impact = pd.read_sql(query, con=engine)\n",
    "\n",
    "# Display results\n",
    "print(\" Impact of Reviews on Purchasing Behavior:\\n\", review_impact)\n"
   ]
  },
  {
   "cell_type": "raw",
   "id": "e9289bf6-8c51-40ba-a8fa-67418c879674",
   "metadata": {},
   "source": [
    "5. SQL Query to Compare Repeat vs. First-Time Buyers"
   ]
  },
  {
   "cell_type": "code",
   "execution_count": 17,
   "id": "b4019c0d-08f2-4f54-b1ab-22dc4e7c72e5",
   "metadata": {},
   "outputs": [
    {
     "name": "stdout",
     "output_type": "stream",
     "text": [
      " Repeat vs. First-Time Buyers:\n",
      "           BuyerType  BuyerCount\n",
      "0  First-Time Buyer           6\n"
     ]
    }
   ],
   "source": [
    "# SQL Query to Compare Repeat vs. First-Time Buyers\n",
    "query = \"\"\"\n",
    "WITH PurchaseCounts AS (\n",
    "    SELECT CustomerID, COUNT(*) AS PurchaseCount\n",
    "    FROM customer_journey\n",
    "    WHERE Action = 'Purchase'  -- Considering only completed purchases\n",
    "    GROUP BY CustomerID\n",
    ")\n",
    "SELECT \n",
    "    CASE \n",
    "        WHEN PurchaseCount = 1 THEN 'First-Time Buyer'\n",
    "        ELSE 'Repeat Buyer'\n",
    "    END AS BuyerType,\n",
    "    COUNT(CustomerID) AS BuyerCount\n",
    "FROM PurchaseCounts\n",
    "GROUP BY BuyerType;\n",
    "\"\"\"\n",
    "\n",
    "# Execute SQL query\n",
    "buyer_comparison = pd.read_sql(query, con=engine)\n",
    "\n",
    "# Display results\n",
    "print(\" Repeat vs. First-Time Buyers:\\n\", buyer_comparison)"
   ]
  },
  {
   "cell_type": "markdown",
   "id": "6d1a9241-0375-4f3e-a48c-154e714061ca",
   "metadata": {},
   "source": [
    "# Customer Experience Manager"
   ]
  },
  {
   "cell_type": "raw",
   "id": "9677e591-aef5-4bbf-b83c-2303bc8c584c",
   "metadata": {},
   "source": [
    "1.SQL Query to Find Complaints with Product Details"
   ]
  },
  {
   "cell_type": "code",
   "execution_count": 19,
   "id": "8e5367f7-5e2d-4aeb-90b2-0fcb4b23d067",
   "metadata": {},
   "outputs": [
    {
     "name": "stdout",
     "output_type": "stream",
     "text": [
      " Key Customer Complaints by Product:\n",
      "    ProductID      ProductName  \\\n",
      "0          3         Yoga Mat   \n",
      "1          4        Dumbbells   \n",
      "2          6    Tennis Racket   \n",
      "3          2  Fitness Tracker   \n",
      "4          7       Basketball   \n",
      "5         10       Golf Clubs   \n",
      "6         15    Climbing Rope   \n",
      "7         16            Kayak   \n",
      "8         17        Surfboard   \n",
      "\n",
      "                                          ReviewText  Rating  \n",
      "0                            Not  worth  the  money.       1  \n",
      "1   The  product  stopped  working  after  a  month.       1  \n",
      "2   I  had  a  bad  experience  with  this  product.       1  \n",
      "3       Product  did    not  meet  my  expectations.       2  \n",
      "4  The  product    is  okay,  but  the  instructi...       2  \n",
      "5              Disappointed  with  the  performance.       2  \n",
      "6                     The  product  arrived    late.       2  \n",
      "7            Average  experience,  nothing  special.       2  \n",
      "8            Average  experience,  nothing  special.       2  \n"
     ]
    }
   ],
   "source": [
    "# SQL Query to Find Complaints with Product Details\n",
    "query = \"\"\"\n",
    "SELECT \n",
    "    r.ProductID, \n",
    "    p.ProductName, \n",
    "    r.ReviewText, \n",
    "    r.Rating\n",
    "FROM customer_reviews r\n",
    "JOIN products p ON r.ProductID = p.ProductID\n",
    "WHERE r.Rating <= 2\n",
    "ORDER BY r.Rating ASC\n",
    "LIMIT 10;\n",
    "\"\"\"\n",
    "\n",
    "# Execute the query\n",
    "complaints_df = pd.read_sql(query, con=engine)\n",
    "\n",
    "# Display the results\n",
    "print(\" Key Customer Complaints by Product:\\n\", complaints_df)\n"
   ]
  },
  {
   "cell_type": "raw",
   "id": "7f8c72af-8b29-4970-8372-05beb4e7c841",
   "metadata": {},
   "source": [
    "2.  SQL Query: Find Negative Review Patterns and Product Performance"
   ]
  },
  {
   "cell_type": "code",
   "execution_count": 21,
   "id": "45198a34-e054-4dd3-85c9-c39337ecdb7d",
   "metadata": {},
   "outputs": [
    {
     "name": "stdout",
     "output_type": "stream",
     "text": [
      " Pattern Between Negative Reviews and Product Performance:\n",
      "        ProductName  NegativeReviewCount  AvgRating  PurchaseCount\n",
      "0  Fitness Tracker                    1        2.0              1\n",
      "1    Climbing Rope                    1        2.0              2\n",
      "2            Kayak                    1        2.0              1\n",
      "3        Surfboard                    1        2.0              2\n"
     ]
    }
   ],
   "source": [
    "#  SQL Query: Find Negative Review Patterns and Product Performance\n",
    "query = \"\"\"\n",
    "WITH NegativeReviews AS (\n",
    "    SELECT ProductID, COUNT(*) AS NegativeReviewCount, AVG(Rating) AS AvgRating\n",
    "    FROM customer_reviews\n",
    "    WHERE Rating <= 2\n",
    "    GROUP BY ProductID\n",
    "),\n",
    "ProductSales AS (\n",
    "    SELECT ProductID, COUNT(DISTINCT CustomerID) AS PurchaseCount\n",
    "    FROM customer_journey\n",
    "    WHERE Action = 'Purchase'\n",
    "    GROUP BY ProductID\n",
    ")\n",
    "SELECT \n",
    "    p.ProductName, \n",
    "    nr.NegativeReviewCount, \n",
    "    nr.AvgRating, \n",
    "    ps.PurchaseCount\n",
    "FROM NegativeReviews nr\n",
    "JOIN ProductSales ps ON nr.ProductID = ps.ProductID\n",
    "JOIN products p ON nr.ProductID = p.ProductID\n",
    "ORDER BY nr.NegativeReviewCount DESC;\n",
    "\"\"\"\n",
    "\n",
    "# Execute SQL query\n",
    "negative_review_impact = pd.read_sql(query, con=engine)\n",
    "\n",
    "# Display results\n",
    "print(\" Pattern Between Negative Reviews and Product Performance:\\n\", negative_review_impact)\n"
   ]
  },
  {
   "cell_type": "raw",
   "id": "1c1330c2-5c2a-4ec0-a822-71fba643728f",
   "metadata": {},
   "source": [
    "3. SQL Query: Find Highest & Lowest Rated Products"
   ]
  },
  {
   "cell_type": "code",
   "execution_count": 33,
   "id": "6fee9509-4c3b-4b8c-a6d3-a1fcd7adbee8",
   "metadata": {},
   "outputs": [
    {
     "name": "stdout",
     "output_type": "stream",
     "text": [
      "\n",
      "Top 5 Highest-Rated Products:\n",
      "      ProductName  AvgRating  ReviewCount\n",
      "0  Climbing Rope     4.0000            6\n",
      "1      Ski Boots     4.0000            6\n",
      "2      Surfboard     3.8889            9\n",
      "3  Tennis Racket     3.8571            7\n",
      "4       Yoga Mat     3.7143            7\n",
      "\n",
      "Top 5 Lowest-Rated Products:\n",
      "        ProductName  AvgRating  ReviewCount\n",
      "0            Kayak     3.4000           10\n",
      "1  Fitness Tracker     3.5714            7\n",
      "2     Swim Goggles     3.6667            9\n",
      "3         Yoga Mat     3.7143            7\n",
      "4    Tennis Racket     3.8571            7\n"
     ]
    }
   ],
   "source": [
    "# SQL Query: Find Highest & Lowest Rated Products\n",
    "# Query for highest-rated products\n",
    "query_highest = \"\"\"\n",
    "SELECT \n",
    "    p.ProductName, \n",
    "    AVG(r.Rating) AS AvgRating, \n",
    "    COUNT(r.ReviewID) AS ReviewCount\n",
    "FROM customer_reviews r\n",
    "JOIN products p ON r.ProductID = p.ProductID\n",
    "GROUP BY p.ProductName\n",
    "HAVING ReviewCount > 5  -- Ensure products have enough reviews\n",
    "ORDER BY AvgRating DESC\n",
    "LIMIT 5;  -- Get top 5 highest-rated products\n",
    "\"\"\"\n",
    "\n",
    "# Execute the first query safely\n",
    "conn = engine.connect()\n",
    "highest_rated = pd.read_sql(query_highest, con=conn)\n",
    "\n",
    "print(\"\\nTop 5 Highest-Rated Products:\\n\", highest_rated)\n",
    "\n",
    "# Query for lowest-rated products\n",
    "query_lowest = \"\"\"\n",
    "SELECT \n",
    "    p.ProductName, \n",
    "    AVG(r.Rating) AS AvgRating, \n",
    "    COUNT(r.ReviewID) AS ReviewCount\n",
    "FROM customer_reviews r\n",
    "JOIN products p ON r.ProductID = p.ProductID\n",
    "GROUP BY p.ProductName\n",
    "HAVING ReviewCount > 5  -- Ensure products have enough reviews\n",
    "ORDER BY AvgRating ASC\n",
    "LIMIT 5;  -- Get top 5 lowest-rated products\n",
    "\"\"\"\n",
    "\n",
    "# Execute the second query safely\n",
    "conn = engine.connect()\n",
    "lowest_rated = pd.read_sql(query_lowest, con=conn)\n",
    "\n",
    "print(\"\\nTop 5 Lowest-Rated Products:\\n\", lowest_rated)"
   ]
  },
  {
   "cell_type": "raw",
   "id": "28de3f56-43c7-4cc8-b700-45e6d9baa6cd",
   "metadata": {},
   "source": [
    "4.  SQL Query: Find Common Actions Before Conversion"
   ]
  },
  {
   "cell_type": "code",
   "execution_count": 17,
   "id": "6e183052-a6a8-4819-a5bf-b511fbefc764",
   "metadata": {},
   "outputs": [
    {
     "name": "stdout",
     "output_type": "stream",
     "text": [
      " Common Actions Leading to Conversions:\n",
      "      Action  ActionCount\n",
      "0      View            2\n",
      "1  Drop-off            1\n"
     ]
    }
   ],
   "source": [
    "#  SQL Query: Find Common Actions Before Conversion\n",
    "query = \"\"\"\n",
    "WITH ConversionCustomers AS (\n",
    "    SELECT DISTINCT CustomerID\n",
    "    FROM customer_journey\n",
    "    WHERE Action IN ('Purchase')  -- Successful conversions\n",
    ")\n",
    "SELECT \n",
    "    cj.Action, \n",
    "    COUNT(DISTINCT cj.CustomerID) AS ActionCount\n",
    "FROM customer_journey cj\n",
    "JOIN ConversionCustomers cc ON cj.CustomerID = cc.CustomerID\n",
    "WHERE cj.Action NOT IN ('Purchase')  -- Exclude final purchase stage\n",
    "GROUP BY cj.Action\n",
    "ORDER BY ActionCount DESC\n",
    "\"\"\"\n",
    "\n",
    "# Execute SQL query\n",
    "conn = engine.connect()\n",
    "conversion_actions = pd.read_sql(query, conn)\n",
    "\n",
    "# Display results\n",
    "print(\" Common Actions Leading to Conversions:\\n\", conversion_actions)\n",
    "\n"
   ]
  },
  {
   "cell_type": "raw",
   "id": "0c37a638-c45f-4ea7-bc59-c489768f154e",
   "metadata": {},
   "source": [
    "5. Basic sentiment analysis"
   ]
  },
  {
   "cell_type": "code",
   "execution_count": 45,
   "id": "30af8c44-011e-4ddc-9f15-80fb5f9ea6b3",
   "metadata": {
    "scrolled": true
   },
   "outputs": [
    {
     "name": "stdout",
     "output_type": "stream",
     "text": [
      "\n",
      " Sentiment Summary Based on Ratings:\n",
      "  Sentiment  ReviewCount\n",
      "0   Neutral           29\n",
      "1  Positive           62\n",
      "2  Negative            9\n"
     ]
    }
   ],
   "source": [
    "#  Sentiment Analysis\n",
    "query = \"SELECT ReviewText, Rating FROM customer_reviews\"\n",
    "conn = engine.connect()\n",
    "df = pd.read_sql(query, conn)\n",
    "\n",
    "# Assign Sentiment Based on Rating\n",
    "def assign_sentiment(rating):\n",
    "    if rating >= 4:\n",
    "        return \"Positive\"\n",
    "    elif rating == 3:\n",
    "        return \"Neutral\"\n",
    "    else:\n",
    "        return \"Negative\"\n",
    "\n",
    "df[\"Sentiment\"] = df[\"Rating\"].apply(assign_sentiment)\n",
    "\n",
    "# Store the Sentiment Data Back into SQL\n",
    "df.to_sql(\"customer_reviews_sentiment\", conn, if_exists=\"replace\", index=False)\n",
    "\n",
    "# Get Sentiment Summary from SQL\n",
    "query_sentiment = \"\"\"\n",
    "SELECT Sentiment, COUNT(*) AS ReviewCount\n",
    "FROM customer_reviews_sentiment\n",
    "GROUP BY Sentiment;\n",
    "\"\"\"\n",
    "sentiment_summary = pd.read_sql(query_sentiment,conn)\n",
    "\n",
    "# Display Sentiment Analysis Results\n",
    "print(\"\\n Sentiment Summary Based on Ratings:\")\n",
    "print(sentiment_summary)"
   ]
  },
  {
   "cell_type": "code",
   "execution_count": null,
   "id": "44e60b25-080f-466e-8660-5e3ad07072dc",
   "metadata": {},
   "outputs": [],
   "source": [
    "# Close the connection\n",
    "conn.close()"
   ]
  }
 ],
 "metadata": {
  "kernelspec": {
   "display_name": "Python [conda env:base] *",
   "language": "python",
   "name": "conda-base-py"
  },
  "language_info": {
   "codemirror_mode": {
    "name": "ipython",
    "version": 3
   },
   "file_extension": ".py",
   "mimetype": "text/x-python",
   "name": "python",
   "nbconvert_exporter": "python",
   "pygments_lexer": "ipython3",
   "version": "3.12.7"
  }
 },
 "nbformat": 4,
 "nbformat_minor": 5
}
